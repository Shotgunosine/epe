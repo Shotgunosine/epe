{
 "cells": [
  {
   "cell_type": "code",
   "execution_count": 1,
   "id": "3b76732c",
   "metadata": {},
   "outputs": [],
   "source": [
    "import pandas as pd\n",
    "import numpy as np\n",
    "import seaborn as sns\n",
    "from matplotlib import pyplot as plt\n",
    "from pymer4 import Lmer\n",
    "%matplotlib inline"
   ]
  },
  {
   "cell_type": "code",
   "execution_count": 3,
   "id": "09bea4eb",
   "metadata": {},
   "outputs": [],
   "source": [
    "# filter out excluded subjects\n",
    "screen_dat = pd.read_csv('../data/study4_ec.csv')\n",
    "screen_dat = screen_dat.loc[screen_dat.emotion == 'neutral'].copy()\n",
    "bad_ind = (screen_dat.X1 < -50) | (screen_dat.X1 > 50) | (screen_dat.Y1 < -50) | (screen_dat.Y1 > 50)\n",
    "bad_subs = screen_dat.loc[bad_ind, 'sub'].unique()\n",
    "\n",
    "emo_dat = pd.read_csv('../data/study4_ec.csv')\n",
    "emo_dat['excluded'] = False\n",
    "emo_dat.loc[emo_dat['sub'].isin(bad_subs), 'excluded'] = True\n",
    "emo_dat['Group*Exclusion'] = emo_dat['cesDepress']\n",
    "emo_dat.loc[emo_dat.excluded, 'Group*Exclusion'] = emo_dat.loc[emo_dat.excluded, 'Group*Exclusion'] + ' & Excluded'\n",
    "#emo_dat = emo_dat.loc[~emo_dat['sub'].isin(bad_subs), :].copy()"
   ]
  },
  {
   "cell_type": "code",
   "execution_count": 4,
   "id": "0a63ecae",
   "metadata": {},
   "outputs": [
    {
     "data": {
      "text/plain": [
       "Group*Exclusion\n",
       "Clinically_Depressed               146\n",
       "Clinically_Depressed & Excluded    145\n",
       "Healthy_Controls                   205\n",
       "Healthy_Controls & Excluded         12\n",
       "Name: sub, dtype: int64"
      ]
     },
     "execution_count": 4,
     "metadata": {},
     "output_type": "execute_result"
    }
   ],
   "source": [
    "emo_dat.groupby('Group*Exclusion')['sub'].nunique()"
   ]
  },
  {
   "cell_type": "code",
   "execution_count": null,
   "id": "6b7b2bdc",
   "metadata": {},
   "outputs": [],
   "source": []
  }
 ],
 "metadata": {
  "kernelspec": {
   "display_name": "Python 3 (ipykernel)",
   "language": "python",
   "name": "python3"
  },
  "language_info": {
   "codemirror_mode": {
    "name": "ipython",
    "version": 3
   },
   "file_extension": ".py",
   "mimetype": "text/x-python",
   "name": "python",
   "nbconvert_exporter": "python",
   "pygments_lexer": "ipython3",
   "version": "3.9.7"
  }
 },
 "nbformat": 4,
 "nbformat_minor": 5
}
